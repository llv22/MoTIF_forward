{
 "cells": [
  {
   "cell_type": "code",
   "execution_count": 1,
   "id": "d9da2b30",
   "metadata": {
    "ExecuteTime": {
     "end_time": "2023-04-11T00:59:26.574390Z",
     "start_time": "2023-04-11T00:59:26.155098Z"
    }
   },
   "outputs": [],
   "source": [
    "import pandas as pd"
   ]
  },
  {
   "cell_type": "code",
   "execution_count": 2,
   "id": "6ddd7ae7",
   "metadata": {
    "ExecuteTime": {
     "end_time": "2023-04-11T00:59:26.594265Z",
     "start_time": "2023-04-11T00:59:26.577423Z"
    }
   },
   "outputs": [],
   "source": [
    "file2goal = {}\n",
    "with open(\"motif_all_raw_data/tasknames.csv\", 'r') as f:\n",
    "    file2goal = {line[0:line.index(' ')]:line[line.index(' ')+1:].strip() for line in f if len(line.strip()) >  0}"
   ]
  },
  {
   "cell_type": "code",
   "execution_count": 3,
   "id": "60cb7912",
   "metadata": {
    "ExecuteTime": {
     "end_time": "2023-04-11T00:59:26.609628Z",
     "start_time": "2023-04-11T00:59:26.597085Z"
    }
   },
   "outputs": [
    {
     "data": {
      "text/plain": [
       "814"
      ]
     },
     "execution_count": 3,
     "metadata": {},
     "output_type": "execute_result"
    }
   ],
   "source": [
    "len(set(file2goal.values()))"
   ]
  },
  {
   "cell_type": "code",
   "execution_count": 4,
   "id": "82e30f86",
   "metadata": {
    "ExecuteTime": {
     "end_time": "2023-04-11T00:59:26.620960Z",
     "start_time": "2023-04-11T00:59:26.614494Z"
    }
   },
   "outputs": [],
   "source": [
    "import os\n",
    "\n",
    "rootdir = 'motif_all_raw_data/'\n",
    "dir_collection = []\n",
    "for it in os.scandir(rootdir):\n",
    "    if it.is_dir():\n",
    "        for d in os.scandir(it):\n",
    "            dir_collection.append(d.name)"
   ]
  },
  {
   "cell_type": "code",
   "execution_count": 5,
   "id": "2eb00ce5",
   "metadata": {
    "ExecuteTime": {
     "end_time": "2023-04-11T00:59:26.683888Z",
     "start_time": "2023-04-11T00:59:26.624927Z"
    }
   },
   "outputs": [],
   "source": [
    "file2goal = {f:g for f,g in file2goal.items() if f in dir_collection}"
   ]
  },
  {
   "cell_type": "code",
   "execution_count": 6,
   "id": "fc329490",
   "metadata": {
    "ExecuteTime": {
     "end_time": "2023-04-11T00:59:26.700726Z",
     "start_time": "2023-04-11T00:59:26.686939Z"
    }
   },
   "outputs": [],
   "source": [
    "df = pd.DataFrame(list(file2goal.items()), columns=[\"folder\", \"goal\"])\n",
    "df.to_csv('motif_all_raw_data_filter.csv', index=False)"
   ]
  },
  {
   "cell_type": "code",
   "execution_count": 7,
   "id": "ec5c8c58",
   "metadata": {
    "ExecuteTime": {
     "end_time": "2023-04-11T00:59:26.711680Z",
     "start_time": "2023-04-11T00:59:26.703418Z"
    }
   },
   "outputs": [
    {
     "data": {
      "text/plain": [
       "78"
      ]
     },
     "execution_count": 7,
     "metadata": {},
     "output_type": "execute_result"
    }
   ],
   "source": [
    "len(df.goal.unique())"
   ]
  },
  {
   "cell_type": "code",
   "execution_count": null,
   "id": "af4bb400",
   "metadata": {},
   "outputs": [],
   "source": []
  }
 ],
 "metadata": {
  "kernelspec": {
   "display_name": "Python 3 (ipykernel)",
   "language": "python",
   "name": "python3"
  },
  "language_info": {
   "codemirror_mode": {
    "name": "ipython",
    "version": 3
   },
   "file_extension": ".py",
   "mimetype": "text/x-python",
   "name": "python",
   "nbconvert_exporter": "python",
   "pygments_lexer": "ipython3",
   "version": "3.8.8"
  }
 },
 "nbformat": 4,
 "nbformat_minor": 5
}
